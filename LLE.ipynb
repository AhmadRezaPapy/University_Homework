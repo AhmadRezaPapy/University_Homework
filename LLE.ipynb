{
  "nbformat": 4,
  "nbformat_minor": 0,
  "metadata": {
    "colab": {
      "provenance": []
    },
    "kernelspec": {
      "name": "python3",
      "display_name": "Python 3"
    },
    "language_info": {
      "name": "python"
    }
  },
  "cells": [
    {
      "cell_type": "code",
      "execution_count": 2,
      "metadata": {
        "colab": {
          "base_uri": "https://localhost:8080/"
        },
        "id": "iYa85dIzunf7",
        "outputId": "07ec603f-8cf1-41e5-a0b0-fef2508eb68c"
      },
      "outputs": [
        {
          "output_type": "stream",
          "name": "stdout",
          "text": [
            "Enter the number of data points: 9\n",
            "Enter the number of nearest neighbors: 2\n",
            "Enter the number of dimensions in the reduced space: 2\n",
            "Enter x-coordinate for data point 1: 1\n",
            "Enter y-coordinate for data point 1: 2\n",
            "Enter Z-coordinate for data point 1: 3\n",
            "Enter x-coordinate for data point 2: 4\n",
            "Enter y-coordinate for data point 2: 5\n",
            "Enter Z-coordinate for data point 2: 6\n",
            "Enter x-coordinate for data point 3: 7\n",
            "Enter y-coordinate for data point 3: 8\n",
            "Enter Z-coordinate for data point 3: 9\n",
            "Enter x-coordinate for data point 4: 1\n",
            "Enter y-coordinate for data point 4: 1\n",
            "Enter Z-coordinate for data point 4: 1\n",
            "Enter x-coordinate for data point 5: 2\n",
            "Enter y-coordinate for data point 5: 5\n",
            "Enter Z-coordinate for data point 5: 4\n",
            "Enter x-coordinate for data point 6: 6\n",
            "Enter y-coordinate for data point 6: 8\n",
            "Enter Z-coordinate for data point 6: 7\n",
            "Enter x-coordinate for data point 7: 6\n",
            "Enter y-coordinate for data point 7: 9\n",
            "Enter Z-coordinate for data point 7: 3\n",
            "Enter x-coordinate for data point 8: 4\n",
            "Enter y-coordinate for data point 8: 7\n",
            "Enter Z-coordinate for data point 8: 8\n",
            "Enter x-coordinate for data point 9: 9\n",
            "Enter y-coordinate for data point 9: 2\n",
            "Enter Z-coordinate for data point 9: 1\n",
            "Reduced-dimensional embedding:\n",
            "[[-0.48643669  0.27603571]\n",
            " [-0.03524212 -0.43965982]\n",
            " [ 0.3870862   0.41080107]\n",
            " [-0.46878497  0.2843949 ]\n",
            " [-0.33916105 -0.11309531]\n",
            " [ 0.40608344  0.36434482]\n",
            " [ 0.19276744 -0.22333516]\n",
            " [ 0.2623656  -0.02583677]\n",
            " [ 0.08132214 -0.53364944]]\n"
          ]
        }
      ],
      "source": [
        "import numpy as np\n",
        "# این برنامه برای ماتریس های m*3 تنظیم شده است\n",
        "\n",
        "def lle():\n",
        "    # گرفتن تعداد نقاط - تعداد همسایگی -بعد کاهش یافته\n",
        "    # Step 0:  گرفتن ورودی ها\n",
        "    n_samples = int(input(\"Enter the number of data points: \"))\n",
        "    n_neighbors = int(input(\"Enter the number of nearest neighbors: \"))\n",
        "    n_components = int(input(\"Enter the number of dimensions in the reduced space: \"))\n",
        "\n",
        "    # Step 1: گرفتن نقاط داده\n",
        "    X = np.zeros((n_samples, 3))\n",
        "    for i in range(n_samples):\n",
        "        x = float(input(\"Enter x-coordinate for data point {}: \".format(i+1)))\n",
        "        y = float(input(\"Enter y-coordinate for data point {}: \".format(i+1)))\n",
        "        Z= float(input(\"Enter Z-coordinate for data point {}: \".format(i+1)))\n",
        "        X[i] = [x, y,Z]\n",
        "\n",
        "    # Step 2:پیدا کردن نزدیکترین همسایه\n",
        "    distances = np.zeros((n_samples, n_samples))\n",
        "    for i in range(n_samples):\n",
        "        for j in range(n_samples):\n",
        "            distances[i, j] = np.linalg.norm(X[i] - X[j])\n",
        "    neighbors = np.argsort(distances, axis=1)[:, 1:n_neighbors+1]\n",
        "\n",
        "    # Step 3:پیدا کردن وزن\n",
        "    W = np.zeros((n_samples, n_samples))\n",
        "    for i in range(n_samples):\n",
        "        Xi = X[neighbors[i]]\n",
        "        Xi -= Xi.mean(axis=0)\n",
        "        C = np.dot(Xi, Xi.T)\n",
        "        C += np.eye(n_neighbors) * 1e-3  # regularization term\n",
        "        w = np.linalg.solve(C, np.ones(n_neighbors))\n",
        "        w /= w.sum()\n",
        "        W[i, neighbors[i]] = w\n",
        "\n",
        "    # Step 4: ساخت ماتریسMدر مرحله نشاندن نقاط\n",
        "    M = np.eye(n_samples) - W - W.T + np.dot(W.T, W)\n",
        "\n",
        "    # Step 5:محاسبه مقادیر و بردار های ویژه\n",
        "    eigenvalues, eigenvectors = np.linalg.eigh(M)\n",
        "    indices = np.argsort(eigenvalues)[1:n_components+1]\n",
        "    Y = eigenvectors[:, indices]\n",
        "\n",
        "    return Y\n",
        "\n",
        "# صدا زدن تابعی که برای اینکار نوشتیم\n",
        "embedding = lle()\n",
        "print(\"Reduced-dimensional embedding:\")\n",
        "print(embedding)"
      ]
    }
  ]
}